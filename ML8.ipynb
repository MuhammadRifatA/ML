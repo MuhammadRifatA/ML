{
  "nbformat": 4,
  "nbformat_minor": 0,
  "metadata": {
    "colab": {
      "provenance": [],
      "authorship_tag": "ABX9TyOwNnlLnuEALcysu4/7QNz6",
      "include_colab_link": true
    },
    "kernelspec": {
      "name": "python3",
      "display_name": "Python 3"
    },
    "language_info": {
      "name": "python"
    }
  },
  "cells": [
    {
      "cell_type": "markdown",
      "metadata": {
        "id": "view-in-github",
        "colab_type": "text"
      },
      "source": [
        "<a href=\"https://colab.research.google.com/github/MuhammadRifatA/ML/blob/main/ML8.ipynb\" target=\"_parent\"><img src=\"https://colab.research.google.com/assets/colab-badge.svg\" alt=\"Open In Colab\"/></a>"
      ]
    },
    {
      "cell_type": "markdown",
      "source": [
        "TUGAS PRAKTIKUM"
      ],
      "metadata": {
        "id": "xf-Y3xvPfhD4"
      }
    },
    {
      "cell_type": "markdown",
      "source": [
        "- Lakukan klasifikasi pada data MNIST dengan menggunakan model ANN\n",
        "- Anda diperbolehkan melakukan eksplorasi terhadap,\n",
        "    - Metode pra pengolahan\n",
        "    - Pemilihan fitur\n",
        "    - Arsitektur ANN\n",
        "    - Fungsi Aktiviasi\n",
        "-ANN diimplementasikan dengan menggunakan tensorflow.\n",
        "-DIKERJAKAN SECARA BERKELOMPOK\n",
        "-JELASKAN HASIL YANG ANDA DAPATKAN,\n",
        "    - AKURASI\n",
        "    - CONFUSION MATRIX\n",
        "    - KONFIGURASI MODEL --> MULAI DARI PRA PENGOLAHAN SAMPAI ARSITEKTUR ANN"
      ],
      "metadata": {
        "id": "MtYqWmzSfny-"
      }
    },
    {
      "cell_type": "markdown",
      "source": [
        "Langkah 1 - Import Library"
      ],
      "metadata": {
        "id": "8Eq3nBAogM9v"
      }
    },
    {
      "cell_type": "code",
      "execution_count": 1,
      "metadata": {
        "id": "udgNyQGh8KhK"
      },
      "outputs": [],
      "source": [
        "import numpy as np\n",
        "import tensorflow as tf\n",
        "from tensorflow import keras\n",
        "from tensorflow.keras.models import Sequential\n",
        "from tensorflow.keras.layers import Dense, Flatten\n",
        "from tensorflow.keras.datasets import mnist\n"
      ]
    },
    {
      "cell_type": "markdown",
      "source": [
        "Langkah 2 - Pra-pengolahan data MNIST"
      ],
      "metadata": {
        "id": "wlLXLWWNgPRM"
      }
    },
    {
      "cell_type": "code",
      "source": [
        "(x_train, y_train), (x_test, y_test) = tf.keras.datasets.mnist.load_data()\n"
      ],
      "metadata": {
        "colab": {
          "base_uri": "https://localhost:8080/"
        },
        "id": "8I38j22e9Mqs",
        "outputId": "74a194b5-3861-4e79-cb28-7a9072798245"
      },
      "execution_count": 2,
      "outputs": [
        {
          "output_type": "stream",
          "name": "stdout",
          "text": [
            "Downloading data from https://storage.googleapis.com/tensorflow/tf-keras-datasets/mnist.npz\n",
            "11490434/11490434 [==============================] - 0s 0us/step\n"
          ]
        }
      ]
    },
    {
      "cell_type": "code",
      "source": [
        "x_train = x_train / 255.0\n",
        "x_test = x_test / 255.0"
      ],
      "metadata": {
        "id": "cBx8E7mJ--zz"
      },
      "execution_count": 3,
      "outputs": []
    },
    {
      "cell_type": "markdown",
      "source": [
        "Langkkah 3 - Buat Arsitektur ANN"
      ],
      "metadata": {
        "id": "gz0okvwOgSVX"
      }
    },
    {
      "cell_type": "code",
      "source": [
        "model = Sequential()\n",
        "model.add(Flatten(input_shape=(28, 28)))\n",
        "model.add(Dense(128, activation='relu'))\n",
        "model.add(Dense(10, activation='softmax'))"
      ],
      "metadata": {
        "id": "EyWPxULK_mm8"
      },
      "execution_count": 4,
      "outputs": []
    },
    {
      "cell_type": "markdown",
      "source": [
        "Langkah 4 - Buat Fugsi Aktivasi"
      ],
      "metadata": {
        "id": "idGX5vQ9gWYC"
      }
    },
    {
      "cell_type": "code",
      "source": [
        "model.compile(optimizer='adam', loss='sparse_categorical_crossentropy', metrics=['accuracy'])"
      ],
      "metadata": {
        "id": "cfWPBmuYNsez"
      },
      "execution_count": 5,
      "outputs": []
    },
    {
      "cell_type": "markdown",
      "source": [
        "Langkah 5 - Latih Model ANN dan Lakukan Evaluasi Model"
      ],
      "metadata": {
        "id": "t3Wz6vg9gZ41"
      }
    },
    {
      "cell_type": "code",
      "source": [
        "model.fit(x_train, y_train, epochs=10)"
      ],
      "metadata": {
        "colab": {
          "base_uri": "https://localhost:8080/"
        },
        "id": "i82zqQxjN_U8",
        "outputId": "44e4fe40-7ce5-4cea-a624-52da3ac644ea"
      },
      "execution_count": 6,
      "outputs": [
        {
          "output_type": "stream",
          "name": "stdout",
          "text": [
            "Epoch 1/10\n",
            "1875/1875 [==============================] - 12s 6ms/step - loss: 0.2638 - accuracy: 0.9244\n",
            "Epoch 2/10\n",
            "1875/1875 [==============================] - 7s 4ms/step - loss: 0.1153 - accuracy: 0.9657\n",
            "Epoch 3/10\n",
            "1875/1875 [==============================] - 7s 4ms/step - loss: 0.0810 - accuracy: 0.9758\n",
            "Epoch 4/10\n",
            "1875/1875 [==============================] - 6s 3ms/step - loss: 0.0606 - accuracy: 0.9811\n",
            "Epoch 5/10\n",
            "1875/1875 [==============================] - 7s 4ms/step - loss: 0.0478 - accuracy: 0.9847\n",
            "Epoch 6/10\n",
            "1875/1875 [==============================] - 6s 3ms/step - loss: 0.0367 - accuracy: 0.9886\n",
            "Epoch 7/10\n",
            "1875/1875 [==============================] - 7s 4ms/step - loss: 0.0300 - accuracy: 0.9909\n",
            "Epoch 8/10\n",
            "1875/1875 [==============================] - 6s 3ms/step - loss: 0.0249 - accuracy: 0.9925\n",
            "Epoch 9/10\n",
            "1875/1875 [==============================] - 7s 4ms/step - loss: 0.0201 - accuracy: 0.9936\n",
            "Epoch 10/10\n",
            "1875/1875 [==============================] - 6s 3ms/step - loss: 0.0161 - accuracy: 0.9951\n"
          ]
        },
        {
          "output_type": "execute_result",
          "data": {
            "text/plain": [
              "<keras.src.callbacks.History at 0x7cf62eceed40>"
            ]
          },
          "metadata": {},
          "execution_count": 6
        }
      ]
    },
    {
      "cell_type": "code",
      "source": [
        "model.evaluate(x_test, y_test)"
      ],
      "metadata": {
        "colab": {
          "base_uri": "https://localhost:8080/"
        },
        "id": "WyLYWHyheCCu",
        "outputId": "9f02065f-b606-4d69-f6ac-3aefedf7db3c"
      },
      "execution_count": 7,
      "outputs": [
        {
          "output_type": "stream",
          "name": "stdout",
          "text": [
            "313/313 [==============================] - 1s 3ms/step - loss: 0.0864 - accuracy: 0.9772\n"
          ]
        },
        {
          "output_type": "execute_result",
          "data": {
            "text/plain": [
              "[0.08643531799316406, 0.9771999716758728]"
            ]
          },
          "metadata": {},
          "execution_count": 7
        }
      ]
    },
    {
      "cell_type": "markdown",
      "source": [
        "Langkah 6 - Tampilkan Confusion Matrix"
      ],
      "metadata": {
        "id": "GfvuEmvtgcdt"
      }
    },
    {
      "cell_type": "code",
      "source": [
        "# Confusion matrix\n",
        "# Confusion matrix dihitung menggunakan data uji dan prediksi model.\n",
        "y_pred = model.predict(x_test)\n",
        "confusion_matrix = tf.math.confusion_matrix(y_test, tf.argmax(y_pred, axis=1))\n",
        "print(\"Confusion matrix:\\n\", confusion_matrix)"
      ],
      "metadata": {
        "colab": {
          "base_uri": "https://localhost:8080/"
        },
        "id": "DsbqeVAbeHHR",
        "outputId": "fed953dc-045a-4978-a310-057d3cbfd0bb"
      },
      "execution_count": 9,
      "outputs": [
        {
          "output_type": "stream",
          "name": "stdout",
          "text": [
            "313/313 [==============================] - 1s 4ms/step\n",
            "Confusion matrix:\n",
            " tf.Tensor(\n",
            "[[ 971    0    1    0    2    0    2    0    3    1]\n",
            " [   0 1122    3    1    0    0    3    0    6    0]\n",
            " [   4    2 1008    1    0    0    3    3   10    1]\n",
            " [   0    1    7  971    0   12    0    3    9    7]\n",
            " [   1    1    6    0  956    0    2    2    0   14]\n",
            " [   3    0    0    3    2  871    6    0    4    3]\n",
            " [   7    1    2    0    5    2  940    0    1    0]\n",
            " [   2    5   13    1    0    0    0  998    2    7]\n",
            " [   1    0    5    0    3    1    1    4  956    3]\n",
            " [   2    3    1    2    9    4    0    4    5  979]], shape=(10, 10), dtype=int32)\n"
          ]
        }
      ]
    }
  ]
}